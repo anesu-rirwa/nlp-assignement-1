{
  "nbformat": 4,
  "nbformat_minor": 0,
  "metadata": {
    "colab": {
      "provenance": [],
      "collapsed_sections": [],
      "toc_visible": true
    },
    "kernelspec": {
      "name": "python3",
      "display_name": "Python 3"
    },
    "language_info": {
      "name": "python"
    }
  },
  "cells": [
    {
      "cell_type": "code",
      "execution_count": 1,
      "metadata": {
        "id": "jhf3ihjeyZVU"
      },
      "outputs": [],
      "source": [
        "# for loading/processing the images \n",
        "\n",
        "#allows us to load an image from a file as a PIL object\n",
        "from keras.preprocessing.image import load_img \n",
        "\n",
        "#allows us to convert the PIL object into a NumPy array\n",
        "from keras.preprocessing.image import img_to_array \n",
        "\n",
        "#prepare your image into the format the model requires. You should load images with the Keras load_img function so that you guarantee the images you load are compatible with the preprocess_input function.\n",
        "from keras.applications.vgg16 import preprocess_input \n",
        "\n",
        "# models \n",
        "#pre-trained model we’re going to use\n",
        "from keras.applications.vgg16 import VGG16 \n",
        "from keras.models import Model\n",
        "\n",
        "# clustering and dimension reduction\n",
        "from sklearn.cluster import KMeans\n",
        "\n",
        "#for reducing the dimensions of our feature vector\n",
        "from sklearn.decomposition import PCA\n",
        "\n",
        "# for everything else\n",
        "import os\n",
        "import numpy as np\n",
        "import matplotlib.pyplot as plt\n",
        "from random import randint\n",
        "import pandas as pd\n",
        "import pickle"
      ]
    },
    {
      "cell_type": "code",
      "source": [
        "path = r\"/content/drive/MyDrive/Colab Notebooks/ClusteringImages/archive (1)/flower_images/flower_images\"\n",
        "# change the working directory to the path where the images are located\n",
        "os.chdir(path)\n",
        "\n",
        "# this list holds all the image filename\n",
        "flowers = []\n",
        "\n",
        "# creates a ScandirIterator aliased as files\n",
        "with os.scandir(path) as files:\n",
        "  # loops through each file in the directory\n",
        "    for file in files:\n",
        "        if file.name.endswith('.png'):\n",
        "          # adds only the image files to the flowers list\n",
        "            flowers.append(file.name)"
      ],
      "metadata": {
        "id": "oQgSur5o5f_w",
        "colab": {
          "base_uri": "https://localhost:8080/",
          "height": 252
        },
        "outputId": "b5d3855f-9987-489b-bb01-234abdef08f1"
      },
      "execution_count": 2,
      "outputs": [
        {
          "output_type": "error",
          "ename": "FileNotFoundError",
          "evalue": "ignored",
          "traceback": [
            "\u001b[0;31m---------------------------------------------------------------------------\u001b[0m",
            "\u001b[0;31mFileNotFoundError\u001b[0m                         Traceback (most recent call last)",
            "\u001b[0;32m<ipython-input-2-3477abd0dda4>\u001b[0m in \u001b[0;36m<module>\u001b[0;34m\u001b[0m\n\u001b[1;32m      1\u001b[0m \u001b[0mpath\u001b[0m \u001b[0;34m=\u001b[0m \u001b[0;34mr\"/content/drive/MyDrive/Colab Notebooks/ClusteringImages/archive (1)/flower_images/flower_images\"\u001b[0m\u001b[0;34m\u001b[0m\u001b[0;34m\u001b[0m\u001b[0m\n\u001b[1;32m      2\u001b[0m \u001b[0;31m# change the working directory to the path where the images are located\u001b[0m\u001b[0;34m\u001b[0m\u001b[0;34m\u001b[0m\u001b[0;34m\u001b[0m\u001b[0m\n\u001b[0;32m----> 3\u001b[0;31m \u001b[0mos\u001b[0m\u001b[0;34m.\u001b[0m\u001b[0mchdir\u001b[0m\u001b[0;34m(\u001b[0m\u001b[0mpath\u001b[0m\u001b[0;34m)\u001b[0m\u001b[0;34m\u001b[0m\u001b[0;34m\u001b[0m\u001b[0m\n\u001b[0m\u001b[1;32m      4\u001b[0m \u001b[0;34m\u001b[0m\u001b[0m\n\u001b[1;32m      5\u001b[0m \u001b[0;31m# this list holds all the image filename\u001b[0m\u001b[0;34m\u001b[0m\u001b[0;34m\u001b[0m\u001b[0;34m\u001b[0m\u001b[0m\n",
            "\u001b[0;31mFileNotFoundError\u001b[0m: [Errno 2] No such file or directory: '/content/drive/MyDrive/Colab Notebooks/ClusteringImages/archive (1)/flower_images/flower_images'"
          ]
        }
      ]
    },
    {
      "cell_type": "code",
      "source": [
        "# view the first 10 flower entries\n",
        "print(flowers[:10])\n"
      ],
      "metadata": {
        "colab": {
          "base_uri": "https://localhost:8080/"
        },
        "id": "XELvIy-M1lpy",
        "outputId": "a95899b1-c5e6-4dd4-f885-c2bd26d230cf"
      },
      "execution_count": null,
      "outputs": [
        {
          "output_type": "stream",
          "name": "stdout",
          "text": [
            "['0011.png', '0002.png', '0007.png', '0008.png', '0009.png', '0005.png', '0004.png', '0003.png', '0006.png', '0010.png']\n"
          ]
        }
      ]
    },
    {
      "cell_type": "code",
      "source": [
        "# load the image as a 224x224 array\n",
        "img = load_img(flowers[0], target_size=(224,224))\n",
        "# convert from 'PIL.Image.Image' to numpy array\n",
        "img = np.array(img)\n",
        "\n",
        "print(img.shape)\n",
        "(224, 224, 3)"
      ],
      "metadata": {
        "colab": {
          "base_uri": "https://localhost:8080/"
        },
        "id": "1MglpKIB5-1h",
        "outputId": "9f0834c3-d86e-4421-9774-07bb0b6e375b"
      },
      "execution_count": null,
      "outputs": [
        {
          "output_type": "stream",
          "name": "stdout",
          "text": [
            "(224, 224, 3)\n"
          ]
        },
        {
          "output_type": "execute_result",
          "data": {
            "text/plain": [
              "(224, 224, 3)"
            ]
          },
          "metadata": {},
          "execution_count": 4
        }
      ]
    },
    {
      "cell_type": "code",
      "source": [
        "reshaped_img = img.reshape(1,224,224,3)\n",
        "print(reshaped_img.shape)\n",
        "(1, 224, 224, 3)"
      ],
      "metadata": {
        "colab": {
          "base_uri": "https://localhost:8080/"
        },
        "id": "nqhu0lck6EH4",
        "outputId": "c21ed777-5507-491d-992a-f04f43cfa68b"
      },
      "execution_count": null,
      "outputs": [
        {
          "output_type": "stream",
          "name": "stdout",
          "text": [
            "(1, 224, 224, 3)\n"
          ]
        },
        {
          "output_type": "execute_result",
          "data": {
            "text/plain": [
              "(1, 224, 224, 3)"
            ]
          },
          "metadata": {},
          "execution_count": 5
        }
      ]
    },
    {
      "cell_type": "code",
      "source": [
        "x = preprocess_input(reshaped_img)\n"
      ],
      "metadata": {
        "id": "zLbwoJCZ6JBs"
      },
      "execution_count": null,
      "outputs": []
    },
    {
      "cell_type": "code",
      "source": [
        "# load model\n",
        "model = VGG16()\n",
        "# remove the output layer\n",
        "model = Model(inputs=model.inputs, outputs=model.layers[-2].output)"
      ],
      "metadata": {
        "colab": {
          "base_uri": "https://localhost:8080/"
        },
        "id": "AuKvNeF56PPu",
        "outputId": "bb0dd802-12ab-4e00-fe09-6f01da0a6e46"
      },
      "execution_count": null,
      "outputs": [
        {
          "output_type": "stream",
          "name": "stdout",
          "text": [
            "Downloading data from https://storage.googleapis.com/tensorflow/keras-applications/vgg16/vgg16_weights_tf_dim_ordering_tf_kernels.h5\n",
            "553467904/553467096 [==============================] - 4s 0us/step\n",
            "553476096/553467096 [==============================] - 4s 0us/step\n"
          ]
        }
      ]
    },
    {
      "cell_type": "code",
      "source": [
        "# load the model first and pass as an argument\n",
        "model = VGG16()\n",
        "model = Model(inputs = model.inputs, outputs = model.layers[-2].output)\n",
        "\n",
        "def extract_features(file, model):\n",
        "    # load the image as a 224x224 array\n",
        "    img = load_img(file, target_size=(224,224))\n",
        "    # convert from 'PIL.Image.Image' to numpy array\n",
        "    img = np.array(img) \n",
        "    # reshape the data for the model reshape(num_of_samples, dim 1, dim 2, channels)\n",
        "    reshaped_img = img.reshape(1,224,224,3) \n",
        "    # prepare image for model\n",
        "    imgx = preprocess_input(reshaped_img)\n",
        "    # get the feature vector\n",
        "    features = model.predict(imgx, use_multiprocessing=True)\n",
        "    return features"
      ],
      "metadata": {
        "id": "JnMrNRq_6WX2"
      },
      "execution_count": null,
      "outputs": []
    },
    {
      "cell_type": "code",
      "source": [
        "data = {}\n",
        "p = r\"/content/drive/MyDrive/Colab Notebooks/ClusteringImages/archive (1)/flower_features.pkl\"\n",
        "\n",
        "# lop through each image in the dataset\n",
        "for flower in flowers:\n",
        "    # try to extract the features and update the dictionary\n",
        "    try:\n",
        "        feat = extract_features(flower,model)\n",
        "        data[flower] = feat\n",
        "    # if something fails, save the extracted features as a pickle file (optional)\n",
        "    except:\n",
        "        with open(p,'wb') as file:\n",
        "            pickle.dump(data,file)\n",
        "          \n",
        " \n",
        "# get a list of the filenames\n",
        "filenames = np.array(list(data.keys()))\n",
        "\n",
        "# get a list of just the features\n",
        "feat = np.array(list(data.values()))\n",
        "feat.shape\n",
        "(210, 1, 4096)\n",
        "\n",
        "# reshape so that there are 210 samples of 4096 vectors\n",
        "feat = feat.reshape(-1,4096)\n",
        "feat.shape\n",
        "(210, 4096)\n",
        "\n",
        "# get the unique labels (from the flower_labels.csv)\n",
        "df = pd.read_csv('flower_labels.csv')\n",
        "label = df['label'].tolist()\n",
        "unique_labels = list(set(label))\n"
      ],
      "metadata": {
        "id": "1AkQjNuj8Lpt"
      },
      "execution_count": null,
      "outputs": []
    },
    {
      "cell_type": "code",
      "source": [
        "pca = PCA(n_components=100, random_state=22)\n",
        "pca.fit(feat)\n",
        "x = pca.transform(feat)"
      ],
      "metadata": {
        "id": "BA1--RnP_dLV"
      },
      "execution_count": null,
      "outputs": []
    },
    {
      "cell_type": "code",
      "source": [
        "kmeans = KMeans(n_clusters=len(unique_labels), random_state=22)\n",
        "kmeans.fit(x)"
      ],
      "metadata": {
        "colab": {
          "base_uri": "https://localhost:8080/"
        },
        "id": "2P4wMMtf_eb8",
        "outputId": "4646fdcd-7547-4c07-e01f-2c8c9877bc95"
      },
      "execution_count": null,
      "outputs": [
        {
          "output_type": "execute_result",
          "data": {
            "text/plain": [
              "KMeans(n_clusters=10, random_state=22)"
            ]
          },
          "metadata": {},
          "execution_count": 15
        }
      ]
    },
    {
      "cell_type": "code",
      "source": [
        "kmeans.labels_"
      ],
      "metadata": {
        "colab": {
          "base_uri": "https://localhost:8080/"
        },
        "id": "wmzANbLt_-gr",
        "outputId": "a1b28364-0f5e-4e24-ed0b-c54556519c59"
      },
      "execution_count": null,
      "outputs": [
        {
          "output_type": "execute_result",
          "data": {
            "text/plain": [
              "array([7, 9, 7, 3, 9, 3, 3, 1, 4, 9, 9, 8, 7, 6, 0, 3, 7, 9, 1, 7, 3, 1,\n",
              "       2, 1, 9, 5, 1, 1, 7, 0, 7, 7, 7, 9, 9, 6, 5, 5, 9, 9, 5, 9, 2, 7,\n",
              "       1, 9, 9, 3, 7, 7, 0, 9, 6, 5, 2, 6, 4, 3, 6, 6, 5, 9, 9, 5, 4, 2,\n",
              "       2, 0, 2, 7, 1, 3, 9, 8, 2, 4, 0, 7, 9, 3, 4, 6, 5, 8, 7, 7, 9, 6,\n",
              "       1, 4, 2, 7, 3, 7, 6, 1, 2, 9, 3, 1, 4, 3, 7, 7, 4, 6, 6, 3, 7, 1,\n",
              "       9, 4, 5, 7, 2, 1, 3, 6, 3, 1, 2, 0, 2, 2, 7, 6, 6, 7, 2, 1, 7, 3,\n",
              "       9, 0, 1, 0, 1, 6, 6, 9, 9, 6, 6, 4, 7, 5, 6, 7, 1, 6, 3, 9, 5, 9,\n",
              "       4, 7, 4, 4, 7, 2, 1, 1, 4, 5, 9, 6, 7, 2, 9, 6, 8, 3, 4, 7, 2, 6,\n",
              "       3, 1, 9, 6, 7, 9, 9, 1, 3, 6, 7, 4, 6, 5, 3, 4, 1, 6, 2, 9, 3, 4,\n",
              "       1, 2, 2, 9, 4, 7, 9, 5, 2, 7, 1, 0], dtype=int32)"
            ]
          },
          "metadata": {},
          "execution_count": 16
        }
      ]
    },
    {
      "cell_type": "code",
      "source": [
        "# holds the cluster id and the images { id: [images] }\n",
        "groups = {}\n",
        "for file, cluster in zip(filenames,kmeans.labels_):\n",
        "    if cluster not in groups.keys():\n",
        "        groups[cluster] = []\n",
        "        groups[cluster].append(file)\n",
        "    else:\n",
        "        groups[cluster].append(file)"
      ],
      "metadata": {
        "id": "ojpsoZk8_-pc"
      },
      "execution_count": null,
      "outputs": []
    },
    {
      "cell_type": "code",
      "source": [
        "# view the filenames in cluster 0\n",
        "groups[0]"
      ],
      "metadata": {
        "colab": {
          "base_uri": "https://localhost:8080/"
        },
        "id": "AF0rCKCQAc6L",
        "outputId": "bbcf16ff-b352-49f2-d6f7-19aa949c6c49"
      },
      "execution_count": null,
      "outputs": [
        {
          "output_type": "execute_result",
          "data": {
            "text/plain": [
              "['0032.png',\n",
              " '0026.png',\n",
              " '0056.png',\n",
              " '0089.png',\n",
              " '0077.png',\n",
              " '0138.png',\n",
              " '0130.png',\n",
              " '0118.png',\n",
              " '0197.png']"
            ]
          },
          "metadata": {},
          "execution_count": 18
        }
      ]
    },
    {
      "cell_type": "code",
      "source": [
        "groups[1]"
      ],
      "metadata": {
        "colab": {
          "base_uri": "https://localhost:8080/"
        },
        "id": "HdkOmbc5AfJF",
        "outputId": "6d852d59-6d7a-4894-f494-7b00d2854ae7"
      },
      "execution_count": null,
      "outputs": [
        {
          "output_type": "execute_result",
          "data": {
            "text/plain": [
              "['0003.png',\n",
              " '0039.png',\n",
              " '0029.png',\n",
              " '0021.png',\n",
              " '0024.png',\n",
              " '0027.png',\n",
              " '0069.png',\n",
              " '0087.png',\n",
              " '0061.png',\n",
              " '0106.png',\n",
              " '0102.png',\n",
              " '0094.png',\n",
              " '0132.png',\n",
              " '0139.png',\n",
              " '0122.png',\n",
              " '0127.png',\n",
              " '0113.png',\n",
              " '0164.png',\n",
              " '0151.png',\n",
              " '0145.png',\n",
              " '0190.png',\n",
              " '0184.png',\n",
              " '0179.png',\n",
              " '0206.png',\n",
              " '0199.png']"
            ]
          },
          "metadata": {},
          "execution_count": 19
        }
      ]
    }
  ]
}